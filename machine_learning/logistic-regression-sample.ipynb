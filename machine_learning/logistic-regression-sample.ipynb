{
 "cells": [
  {
   "cell_type": "code",
   "execution_count": 1,
   "metadata": {},
   "outputs": [],
   "source": [
    "import pandas as pd\n",
    "import numpy as np\n",
    "import matplotlib.pyplot as plt\n",
    "from sklearn.linear_model import LogisticRegression"
   ]
  },
  {
   "cell_type": "code",
   "execution_count": 2,
   "metadata": {
    "collapsed": true
   },
   "outputs": [],
   "source": [
    "data = pd.read_csv('census.csv', index_col='Year')"
   ]
  },
  {
   "cell_type": "code",
   "execution_count": 3,
   "metadata": {},
   "outputs": [
    {
     "data": {
      "text/html": [
       "<div>\n",
       "<style>\n",
       "    .dataframe thead tr:only-child th {\n",
       "        text-align: right;\n",
       "    }\n",
       "\n",
       "    .dataframe thead th {\n",
       "        text-align: left;\n",
       "    }\n",
       "\n",
       "    .dataframe tbody tr th {\n",
       "        vertical-align: top;\n",
       "    }\n",
       "</style>\n",
       "<table border=\"1\" class=\"dataframe\">\n",
       "  <thead>\n",
       "    <tr style=\"text-align: right;\">\n",
       "      <th></th>\n",
       "      <th>Population</th>\n",
       "    </tr>\n",
       "    <tr>\n",
       "      <th>Year</th>\n",
       "      <th></th>\n",
       "    </tr>\n",
       "  </thead>\n",
       "  <tbody>\n",
       "    <tr>\n",
       "      <th>1790</th>\n",
       "      <td>3.929</td>\n",
       "    </tr>\n",
       "    <tr>\n",
       "      <th>1800</th>\n",
       "      <td>5.308</td>\n",
       "    </tr>\n",
       "    <tr>\n",
       "      <th>1810</th>\n",
       "      <td>7.240</td>\n",
       "    </tr>\n",
       "    <tr>\n",
       "      <th>1820</th>\n",
       "      <td>9.638</td>\n",
       "    </tr>\n",
       "    <tr>\n",
       "      <th>1830</th>\n",
       "      <td>12.866</td>\n",
       "    </tr>\n",
       "  </tbody>\n",
       "</table>\n",
       "</div>"
      ],
      "text/plain": [
       "      Population\n",
       "Year            \n",
       "1790       3.929\n",
       "1800       5.308\n",
       "1810       7.240\n",
       "1820       9.638\n",
       "1830      12.866"
      ]
     },
     "execution_count": 3,
     "metadata": {},
     "output_type": "execute_result"
    }
   ],
   "source": [
    "data.head()"
   ]
  },
  {
   "cell_type": "code",
   "execution_count": 4,
   "metadata": {
    "collapsed": true
   },
   "outputs": [],
   "source": [
    "train_size = int(0.8 * len(data))\n",
    "train = data.iloc[:train_size]\n",
    "test = data.iloc[train_size:]"
   ]
  },
  {
   "cell_type": "code",
   "execution_count": 8,
   "metadata": {},
   "outputs": [
    {
     "data": {
      "text/plain": [
       "array([ 14.0976251,  28.1952502,  28.1952502])"
      ]
     },
     "execution_count": 8,
     "metadata": {},
     "output_type": "execute_result"
    }
   ],
   "source": [
    "sigmoid([1, 2, 3], *res.x)"
   ]
  },
  {
   "cell_type": "code",
   "execution_count": 9,
   "metadata": {},
   "outputs": [
    {
     "name": "stdout",
     "output_type": "stream",
     "text": [
      "Minimizing Parameters: [  1.79930656e+02   3.20249849e-02   1.90966278e+03]\n",
      "Forecast mean squared error: 6.22\n"
     ]
    },
    {
     "data": {
      "image/png": "[encoded data removed]",
      "text/plain": [
       "<matplotlib.figure.Figure at 0x204af434cf8>"
      ]
     },
     "metadata": {},
     "output_type": "display_data"
    }
   ],
   "source": [
    "from scipy.optimize import minimize\n",
    "def sigmoid(x, L, k, x0):\n",
    "    return L / (1 + np.exp(-k * (x - x0)))\n",
    "def quadratic(x, a, b, c):\n",
    "    return a * (x - b)**2 + c\n",
    "def linear(x, k, b):\n",
    "    return k * x + b\n",
    "def poly(x, params):\n",
    "    return np.polyval(params, x)\n",
    "\n",
    "function_used = sigmoid\n",
    "\n",
    "#x_train = data.index.values\n",
    "#y_train = data.Population.values\n",
    "x_train = train.index.values\n",
    "y_train = train.Population.values\n",
    "x_test = test.index.values\n",
    "y_test = test.Population.values\n",
    "\n",
    "def squared_loss(params, fun):\n",
    "    global x_train, y_train\n",
    "    loss = fun(x_train, *params) - y_train\n",
    "    return np.sum(loss ** 2)\n",
    "\n",
    "p0 = [500, 0.05, 1940] # Initial values for sigmoid\n",
    "#p0 = [0.005, 1770, 1] # Initial values for quadratic\n",
    "#p0 = [1, -2000] # Initial values for linear\n",
    "res = minimize(squared_loss, p0, args=(function_used))\n",
    "print(\"Minimizing Parameters: {}\".format(res.x))\n",
    "\n",
    "# Calculate test error\n",
    "from sklearn.metrics import mean_squared_error\n",
    "print(\"Forecast mean squared error: \"\n",
    "      \"{0:.2f}\".format(mean_squared_error(y_test, function_used(x_test, *res.x))))\n",
    "\n",
    "x_plot = np.linspace(1780, 1950, 200)\n",
    "y_plot = function_used(x_plot, *res.x)\n",
    "plt.plot(x_plot, y_plot, color='b')\n",
    "plt.scatter(x_train, y_train, color='r')\n",
    "plt.scatter(x_test, y_test, color='g')\n",
    "plt.show()"
   ]
  },
  {
   "cell_type": "code",
   "execution_count": 7,
   "metadata": {},
   "outputs": [
    {
     "data": {
      "text/plain": [
       "array([ 28.1952502,  28.1952502,  28.1952502,  28.1952502,  28.1952502,\n",
       "        28.1952502,  28.1952502,  28.1952502,  28.1952502,  28.1952502,\n",
       "        28.1952502,  28.1952502])"
      ]
     },
     "execution_count": 7,
     "metadata": {},
     "output_type": "execute_result"
    }
   ],
   "source": [
    "sigmoid(x_train, *res.x)"
   ]
  },
  {
   "cell_type": "code",
   "execution_count": null,
   "metadata": {
    "collapsed": true
   },
   "outputs": [],
   "source": []
  }
 ],
 "metadata": {
  "kernelspec": {
   "display_name": "Python 3",
   "language": "python",
   "name": "python3"
  },
  "language_info": {
   "codemirror_mode": {
    "name": "ipython",
    "version": 3
   },
   "file_extension": ".py",
   "mimetype": "text/x-python",
   "name": "python",
   "nbconvert_exporter": "python",
   "pygments_lexer": "ipython3",
   "version": "3.5.2"
  }
 },
 "nbformat": 4,
 "nbformat_minor": 2
}

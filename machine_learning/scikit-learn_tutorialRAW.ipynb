{
 "cells": [
  {
   "cell_type": "markdown",
   "metadata": {},
   "source": [
    "# Scikit-learn tutorial\n",
    "### By Fei Xia, Stanford University"
   ]
  },
  {
   "cell_type": "markdown",
   "metadata": {},
   "source": [
    "## import modules"
   ]
  },
  {
   "cell_type": "code",
   "execution_count": 1,
   "metadata": {
    "collapsed": true
   },
   "outputs": [],
   "source": [
    "import numpy as np\n",
    "from sklearn import datasets \n",
    "import matplotlib.pyplot as plt\n",
    "%matplotlib inline"
   ]
  },
  {
   "cell_type": "markdown",
   "metadata": {},
   "source": [
    "## load the digits dataset"
   ]
  },
  {
   "cell_type": "code",
   "execution_count": 2,
   "metadata": {
    "collapsed": true
   },
   "outputs": [],
   "source": [
    "digits = datasets.load_digits()"
   ]
  },
  {
   "cell_type": "code",
   "execution_count": 3,
   "metadata": {
    "collapsed": false
   },
   "outputs": [
    {
     "name": "stdout",
     "output_type": "stream",
     "text": [
      "<class 'sklearn.datasets.base.Bunch'>\n",
      "['images', 'data', 'target_names', 'DESCR', 'target']\n"
     ]
    }
   ],
   "source": [
    "print type(digits)\n",
    "print digits.keys()"
   ]
  },
  {
   "cell_type": "code",
   "execution_count": 4,
   "metadata": {
    "collapsed": false
   },
   "outputs": [
    {
     "name": "stdout",
     "output_type": "stream",
     "text": [
      "Optical Recognition of Handwritten Digits Data Set\n",
      "===================================================\n",
      "\n",
      "Notes\n",
      "-----\n",
      "Data Set Characteristics:\n",
      "    :Number of Instances: 5620\n",
      "    :Number of Attributes: 64\n",
      "    :Attribute Information: 8x8 image of integer pixels in the range 0..16.\n",
      "    :Missing Attribute Values: None\n",
      "    :Creator: E. Alpaydin (alpaydin '@' boun.edu.tr)\n",
      "    :Date: July; 1998\n",
      "\n",
      "This is a copy of the test set of the UCI ML hand-written digits datasets\n",
      "http://archive.ics.uci.edu/ml/datasets/Optical+Recognition+of+Handwritten+Digits\n",
      "\n",
      "The data set contains images of hand-written digits: 10 classes where\n",
      "each class refers to a digit.\n",
      "\n",
      "Preprocessing programs made available by NIST were used to extract\n",
      "normalized bitmaps of handwritten digits from a preprinted form. From a\n",
      "total of 43 people, 30 contributed to the training set and different 13\n",
      "to the test set. 32x32 bitmaps are divided into nonoverlapping blocks of\n",
      "4x4 and the number of on pixels are counted in each block. This generates\n",
      "an input matrix of 8x8 where each element is an integer in the range\n",
      "0..16. This reduces dimensionality and gives invariance to small\n",
      "distortions.\n",
      "\n",
      "For info on NIST preprocessing routines, see M. D. Garris, J. L. Blue, G.\n",
      "T. Candela, D. L. Dimmick, J. Geist, P. J. Grother, S. A. Janet, and C.\n",
      "L. Wilson, NIST Form-Based Handprint Recognition System, NISTIR 5469,\n",
      "1994.\n",
      "\n",
      "References\n",
      "----------\n",
      "  - C. Kaynak (1995) Methods of Combining Multiple Classifiers and Their\n",
      "    Applications to Handwritten Digit Recognition, MSc Thesis, Institute of\n",
      "    Graduate Studies in Science and Engineering, Bogazici University.\n",
      "  - E. Alpaydin, C. Kaynak (1998) Cascading Classifiers, Kybernetika.\n",
      "  - Ken Tang and Ponnuthurai N. Suganthan and Xi Yao and A. Kai Qin.\n",
      "    Linear dimensionalityreduction using relevance weighted LDA. School of\n",
      "    Electrical and Electronic Engineering Nanyang Technological University.\n",
      "    2005.\n",
      "  - Claudio Gentile. A New Approximate Maximal Margin Classification\n",
      "    Algorithm. NIPS. 2000.\n",
      "\n"
     ]
    }
   ],
   "source": [
    "# what is this dataset?\n",
    "print digits.DESCR"
   ]
  },
  {
   "cell_type": "code",
   "execution_count": 5,
   "metadata": {
    "collapsed": false
   },
   "outputs": [
    {
     "name": "stdout",
     "output_type": "stream",
     "text": [
      "(1797, 64)\n",
      "[[  0.   0.   5. ...,   0.   0.   0.]\n",
      " [  0.   0.   0. ...,  10.   0.   0.]\n",
      " [  0.   0.   0. ...,  16.   9.   0.]\n",
      " ..., \n",
      " [  0.   0.   1. ...,   6.   0.   0.]\n",
      " [  0.   0.   2. ...,  12.   0.   0.]\n",
      " [  0.   0.  10. ...,  12.   1.   0.]]\n"
     ]
    }
   ],
   "source": [
    "print digits.data.shape\n",
    "print digits.data"
   ]
  },
  {
   "cell_type": "code",
   "execution_count": 6,
   "metadata": {
    "collapsed": false
   },
   "outputs": [
    {
     "name": "stdout",
     "output_type": "stream",
     "text": [
      "(1797, 8, 8)\n",
      "[[  0.   0.   5.  13.   9.   1.   0.   0.]\n",
      " [  0.   0.  13.  15.  10.  15.   5.   0.]\n",
      " [  0.   3.  15.   2.   0.  11.   8.   0.]\n",
      " [  0.   4.  12.   0.   0.   8.   8.   0.]\n",
      " [  0.   5.   8.   0.   0.   9.   8.   0.]\n",
      " [  0.   4.  11.   0.   1.  12.   7.   0.]\n",
      " [  0.   2.  14.   5.  10.  12.   0.   0.]\n",
      " [  0.   0.   6.  13.  10.   0.   0.   0.]]\n"
     ]
    }
   ],
   "source": [
    "print digits.images.shape\n",
    "print digits.images[0]"
   ]
  },
  {
   "cell_type": "code",
   "execution_count": 7,
   "metadata": {
    "collapsed": false
   },
   "outputs": [
    {
     "name": "stdout",
     "output_type": "stream",
     "text": [
      "(1797,)\n",
      "[0 1 2 ..., 8 9 8]\n"
     ]
    }
   ],
   "source": [
    "print digits.target.shape\n",
    "print digits.target"
   ]
  },
  {
   "cell_type": "markdown",
   "metadata": {},
   "source": [
    "## visualize digits dataset"
   ]
  },
  {
   "cell_type": "code",
   "execution_count": 8,
   "metadata": {
    "collapsed": false
   },
   "outputs": [],
   "source": [
    "index = 1600\n",
    "img = np.zeros((8,8,3))\n",
    "img[:,:,0] = digits.images[index]\n",
    "img[:,:,1] = img[:,:,0]\n",
    "img[:,:,2] = img[:,:,0]\n",
    "img = (img*255/16).astype('uint8')"
   ]
  },
  {
   "cell_type": "code",
   "execution_count": 21,
   "metadata": {
    "collapsed": false
   },
   "outputs": [
    {
     "name": "stdout",
     "output_type": "stream",
     "text": [
      "label: 2\n"
     ]
    },
    {
     "data": {
      "image/png": "[encoded data removed]",
      "text/plain": [
       "<matplotlib.figure.Figure at 0x7f3e2b5660d0>"
      ]
     },
     "metadata": {},
     "output_type": "display_data"
    }
   ],
   "source": [
    "plt.imshow(img)\n",
    "print 'label:',digits.target[index]"
   ]
  },
  {
   "cell_type": "markdown",
   "metadata": {},
   "source": [
    "### above is the image, that corresponds to number 0\n",
    "let's show the data distribution"
   ]
  },
  {
   "cell_type": "markdown",
   "metadata": {
    "collapsed": true
   },
   "source": [
    "# classification using SVM"
   ]
  },
  {
   "cell_type": "code",
   "execution_count": 41,
   "metadata": {
    "collapsed": false
   },
   "outputs": [],
   "source": [
    "from sklearn.tree import DecisionTreeClassifier\n",
    "classifier = svm.SVC(gamma=0.001, C=100.)"
   ]
  },
  {
   "cell_type": "code",
   "execution_count": 42,
   "metadata": {
    "collapsed": false
   },
   "outputs": [
    {
     "data": {
      "text/plain": [
       "SVC(C=100.0, cache_size=200, class_weight=None, coef0=0.0,\n",
       "  decision_function_shape=None, degree=3, gamma=0.001, kernel='rbf',\n",
       "  max_iter=-1, probability=False, random_state=None, shrinking=True,\n",
       "  tol=0.001, verbose=False)"
      ]
     },
     "execution_count": 42,
     "metadata": {},
     "output_type": "execute_result"
    }
   ],
   "source": [
    "classifier.fit(digits.data[:-400], digits.target[:-400])"
   ]
  },
  {
   "cell_type": "code",
   "execution_count": 43,
   "metadata": {
    "collapsed": false
   },
   "outputs": [],
   "source": [
    "y_pred = classifier.predict(digits.data[-400:])"
   ]
  },
  {
   "cell_type": "code",
   "execution_count": 44,
   "metadata": {
    "collapsed": false
   },
   "outputs": [],
   "source": [
    "y_truth = digits.target[-400:]"
   ]
  },
  {
   "cell_type": "code",
   "execution_count": 45,
   "metadata": {
    "collapsed": false
   },
   "outputs": [
    {
     "name": "stdout",
     "output_type": "stream",
     "text": [
      "[(4, 4), (4, 4), (7, 7), (2, 2), (8, 8), (2, 2), (2, 2), (5, 5), (7, 7), (9, 9), (5, 5), (4, 4), (8, 8), (8, 8), (4, 4), (9, 9), (0, 0), (8, 8), (0, 0), (1, 1), (2, 2), (3, 3), (4, 4), (5, 5), (6, 6), (7, 7), (8, 8), (9, 9), (0, 0), (1, 1), (2, 2), (3, 3), (4, 4), (5, 5), (6, 6), (7, 7), (8, 8), (9, 9), (0, 0), (1, 1), (2, 2), (3, 3), (4, 4), (5, 5), (6, 6), (7, 7), (8, 8), (9, 9), (0, 0), (9, 9), (5, 5), (5, 5), (6, 6), (5, 5), (0, 0), (9, 9), (8, 8), (9, 9), (8, 8), (4, 4), (1, 1), (7, 7), (7, 7), (3, 3), (5, 5), (1, 1), (0, 0), (0, 0), (2, 2), (2, 2), (7, 7), (8, 8), (2, 2), (0, 0), (1, 1), (2, 2), (6, 6), (3, 3), (3, 3), (7, 7), (3, 3), (3, 3), (4, 4), (6, 6), (6, 6), (6, 6), (4, 4), (9, 9), (1, 1), (5, 5), (0, 0), (9, 9), (5, 5), (2, 2), (8, 8), (2, 2), (0, 0), (0, 0), (1, 1), (7, 7), (6, 6), (3, 3), (2, 2), (1, 1), (7, 7), (4, 4), (6, 6), (3, 3), (1, 1), (3, 3), (9, 9), (1, 1), (7, 7), (6, 6), (8, 8), (4, 4), (3, 3), (1, 1), (4, 4), (0, 0), (5, 5), (3, 3), (6, 6), (9, 9), (6, 6), (1, 1), (7, 7), (5, 5), (4, 4), (4, 4), (7, 7), (2, 2), (8, 8), (2, 2), (2, 2), (5, 5), (7, 7), (9, 9), (5, 5), (4, 4), (8, 8), (8, 8), (4, 4), (9, 9), (0, 0), (8, 8), (9, 9), (8, 8), (0, 0), (1, 1), (2, 2), (3, 3), (4, 4), (5, 5), (6, 6), (7, 7), (1, 8), (9, 9), (0, 0), (1, 1), (2, 2), (3, 3), (4, 4), (5, 5), (6, 6), (9, 9), (0, 0), (1, 1), (2, 2), (3, 3), (4, 4), (5, 5), (6, 6), (7, 7), (8, 8), (9, 9), (4, 0), (9, 9), (5, 5), (5, 5), (6, 6), (5, 5), (0, 0), (9, 9), (8, 8), (9, 9), (8, 8), (4, 4), (1, 1), (7, 7), (7, 7), (3, 3), (5, 5), (1, 1), (0, 0), (0, 0), (2, 2), (2, 2), (7, 7), (8, 8), (2, 2), (0, 0), (1, 1), (2, 2), (6, 6), (8, 3), (3, 3), (7, 7), (3, 3), (3, 3), (4, 4), (6, 6), (6, 6), (6, 6), (9, 4), (9, 9), (1, 1), (5, 5), (0, 0), (9, 9), (5, 5), (2, 2), (8, 8), (0, 0), (1, 1), (7, 7), (6, 6), (3, 3), (2, 2), (1, 1), (7, 7), (9, 4), (6, 6), (3, 3), (1, 1), (3, 3), (9, 9), (1, 1), (7, 7), (6, 6), (8, 8), (4, 4), (3, 3), (1, 1), (4, 4), (0, 0), (5, 5), (3, 3), (6, 6), (9, 9), (6, 6), (1, 1), (7, 7), (5, 5), (4, 4), (4, 4), (7, 7), (2, 2), (2, 2), (5, 5), (7, 7), (8, 9), (5, 5), (9, 4), (4, 4), (5, 9), (0, 0), (8, 8), (9, 9), (8, 8), (0, 0), (1, 1), (2, 2), (3, 3), (4, 4), (5, 5), (6, 6), (7, 7), (8, 8), (9, 9), (0, 0), (1, 1), (2, 2), (3, 3), (4, 4), (5, 5), (6, 6), (7, 7), (8, 8), (9, 9), (0, 0), (1, 1), (2, 2), (8, 3), (4, 4), (5, 5), (6, 6), (7, 7), (8, 8), (9, 9), (0, 0), (9, 9), (5, 5), (5, 5), (6, 6), (5, 5), (0, 0), (9, 9), (8, 8), (9, 9), (8, 8), (4, 4), (1, 1), (7, 7), (7, 7), (3, 3), (5, 5), (1, 1), (0, 0), (0, 0), (2, 2), (2, 2), (7, 7), (8, 8), (2, 2), (0, 0), (1, 1), (2, 2), (6, 6), (8, 3), (8, 3), (7, 7), (5, 3), (3, 3), (4, 4), (6, 6), (6, 6), (6, 6), (4, 4), (9, 9), (1, 1), (5, 5), (0, 0), (9, 9), (5, 5), (2, 2), (8, 8), (2, 2), (0, 0), (0, 0), (1, 1), (7, 7), (6, 6), (3, 3), (2, 2), (1, 1), (7, 7), (4, 4), (6, 6), (3, 3), (1, 1), (3, 3), (9, 9), (1, 1), (7, 7), (6, 6), (8, 8), (4, 4), (5, 3), (1, 1), (4, 4), (0, 0), (5, 5), (3, 3), (6, 6), (9, 9), (6, 6), (1, 1), (7, 7), (5, 5), (4, 4), (4, 4), (7, 7), (2, 2), (8, 8), (2, 2), (2, 2), (5, 5), (7, 7), (9, 9), (5, 5), (4, 4), (8, 8), (8, 8), (4, 4), (9, 9), (0, 0), (8, 8), (9, 9), (8, 8)]\n"
     ]
    }
   ],
   "source": [
    "print zip(y_pred, y_truth)"
   ]
  },
  {
   "cell_type": "code",
   "execution_count": 46,
   "metadata": {
    "collapsed": true
   },
   "outputs": [],
   "source": [
    "from sklearn.metrics import confusion_matrix"
   ]
  },
  {
   "cell_type": "code",
   "execution_count": 47,
   "metadata": {
    "collapsed": true
   },
   "outputs": [],
   "source": [
    "# calculate confusion matrix\n",
    "cm = confusion_matrix(y_pred, y_truth)"
   ]
  },
  {
   "cell_type": "code",
   "execution_count": 48,
   "metadata": {
    "collapsed": false
   },
   "outputs": [
    {
     "name": "stdout",
     "output_type": "stream",
     "text": [
      "[[38  0  0  0  0  0  0  0  0  0]\n",
      " [ 0 39  0  0  0  0  0  0  1  0]\n",
      " [ 0  0 40  0  0  0  0  0  0  0]\n",
      " [ 0  0  0 33  0  0  0  0  0  0]\n",
      " [ 1  0  0  0 40  0  0  0  0  0]\n",
      " [ 0  0  0  2  0 41  0  0  0  1]\n",
      " [ 0  0  0  0  0  0 39  0  0  0]\n",
      " [ 0  0  0  0  0  0  0 40  0  0]\n",
      " [ 0  0  0  4  0  0  0  0 38  1]\n",
      " [ 0  0  0  0  3  0  0  0  0 39]]\n"
     ]
    }
   ],
   "source": [
    "print cm\n",
    "# wow, the results are pretty good"
   ]
  },
  {
   "cell_type": "code",
   "execution_count": null,
   "metadata": {
    "collapsed": true
   },
   "outputs": [],
   "source": []
  }
 ],
 "metadata": {
  "kernelspec": {
   "display_name": "Python 2",
   "language": "python",
   "name": "python2"
  },
  "language_info": {
   "codemirror_mode": {
    "name": "ipython",
    "version": 2
   },
   "file_extension": ".py",
   "mimetype": "text/x-python",
   "name": "python",
   "nbconvert_exporter": "python",
   "pygments_lexer": "ipython2",
   "version": "2.7.6"
  }
 },
 "nbformat": 4,
 "nbformat_minor": 0
}

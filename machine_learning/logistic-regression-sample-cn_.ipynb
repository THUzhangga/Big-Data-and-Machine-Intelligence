{
 "cells": [
  {
   "cell_type": "markdown",
   "metadata": {},
   "source": [
    "# 预测美国人口增长：Logistic 回归的应用\n",
    "\n",
    "接下来的 Jupyter Notebook 中，我们会使用 Python 给大家演示如何对于美国人口增长建模，并对未来作出预测。\n",
    "\n",
    "下面的步骤就是对于 Tensorflow 工作流程的简单模拟。理解了这个文件中的代码，就可以学习 Tensorflow 并且使用其深度学习功能。\n",
    "\n",
    "在看到不理解的步骤时，不要慌，先上百度搜索相关代码，尝试一行一行地自己理解其中的逻辑，只有不理解的人才能理解，不理解是一个正常的过程。\n",
    "\n",
    "以下代码假设你会：简单的 Python 编程、高中程度的数学知识、前几天在 ML 课上有听课。如果没有满足以上所有要求，请马上找同学或 MA 补全漏洞"
   ]
  },
  {
   "cell_type": "code",
   "execution_count": 3,
   "metadata": {},
   "outputs": [
    {
     "name": "stdout",
     "output_type": "stream",
     "text": [
      "/Users/zhenchen/Desktop/TechX2017/ML-ipynb\r\n"
     ]
    }
   ],
   "source": [
    "!pwd # 请运行本行，并确认自己在想要的文件夹内"
   ]
  },
  {
   "cell_type": "code",
   "execution_count": 4,
   "metadata": {},
   "outputs": [
    {
     "name": "stdout",
     "output_type": "stream",
     "text": [
      "census.csv\r\n",
      "crawl.ipynb\r\n",
      "face_detection.ipynb\r\n",
      "\u001b[31mhog_ped.ipynb\u001b[m\u001b[m\r\n",
      "kmeans.ipynb\r\n",
      "logistic-regression-sample-中文注解-v1.2_.ipynb\r\n",
      "logistic-regression-sample.ipynb\r\n",
      "mnist.py\r\n",
      "mnist_cnn.ipynb\r\n",
      "scikit-learn_tutorial.ipynb\r\n",
      "scikit-learn_tutorialRAW.ipynb\r\n",
      "spam_detection.ipynb\r\n",
      "spam_detection.py\r\n",
      "test.ipynb\r\n",
      "theano.ipynb\r\n",
      "train_digit.ipynb\r\n"
     ]
    }
   ],
   "source": [
    "!ls # 请运行本行，并确认文件夹里有 “census.csv” 文件"
   ]
  },
  {
   "cell_type": "code",
   "execution_count": 5,
   "metadata": {
    "collapsed": true
   },
   "outputs": [],
   "source": [
    "# 加载运行所需模块\n",
    "import pandas as pd # 读取和操作数据使用\n",
    "import numpy as np # 进行数学运算使用\n",
    "import matplotlib.pyplot as plt # 绘图使用"
   ]
  },
  {
   "cell_type": "code",
   "execution_count": 8,
   "metadata": {},
   "outputs": [
    {
     "data": {
      "text/html": [
       "<div>\n",
       "<style>\n",
       "    .dataframe thead tr:only-child th {\n",
       "        text-align: right;\n",
       "    }\n",
       "\n",
       "    .dataframe thead th {\n",
       "        text-align: left;\n",
       "    }\n",
       "\n",
       "    .dataframe tbody tr th {\n",
       "        vertical-align: top;\n",
       "    }\n",
       "</style>\n",
       "<table border=\"1\" class=\"dataframe\">\n",
       "  <thead>\n",
       "    <tr style=\"text-align: right;\">\n",
       "      <th></th>\n",
       "      <th>Population</th>\n",
       "    </tr>\n",
       "    <tr>\n",
       "      <th>Year</th>\n",
       "      <th></th>\n",
       "    </tr>\n",
       "  </thead>\n",
       "  <tbody>\n",
       "    <tr>\n",
       "      <th>1790</th>\n",
       "      <td>3.929</td>\n",
       "    </tr>\n",
       "    <tr>\n",
       "      <th>1800</th>\n",
       "      <td>5.308</td>\n",
       "    </tr>\n",
       "    <tr>\n",
       "      <th>1810</th>\n",
       "      <td>7.240</td>\n",
       "    </tr>\n",
       "    <tr>\n",
       "      <th>1820</th>\n",
       "      <td>9.638</td>\n",
       "    </tr>\n",
       "    <tr>\n",
       "      <th>1830</th>\n",
       "      <td>12.866</td>\n",
       "    </tr>\n",
       "  </tbody>\n",
       "</table>\n",
       "</div>"
      ],
      "text/plain": [
       "      Population\n",
       "Year            \n",
       "1790       3.929\n",
       "1800       5.308\n",
       "1810       7.240\n",
       "1820       9.638\n",
       "1830      12.866"
      ]
     },
     "execution_count": 8,
     "metadata": {},
     "output_type": "execute_result"
    }
   ],
   "source": [
    "# 载入美国历史人口数据，并选择 'Year' 为索引\n",
    "data = pd.read_csv('./census.csv', index_col='Year')\n",
    "data.head()"
   ]
  },
  {
   "cell_type": "code",
   "execution_count": 9,
   "metadata": {
    "collapsed": true
   },
   "outputs": [],
   "source": [
    "# 分开训练和测试两组数据。在这里，我们使用前 80% 的数据做训练，\n",
    "# 后 20% 做测试\n",
    "train_size = int(0.8 * len(data))\n",
    "train = data.iloc[:train_size]\n",
    "test = data.iloc[train_size:]"
   ]
  },
  {
   "cell_type": "code",
   "execution_count": 10,
   "metadata": {},
   "outputs": [
    {
     "data": {
      "image/png": "[encoded data removed]",
      "text/plain": [
       "<matplotlib.figure.Figure at 0x1194aa4e0>"
      ]
     },
     "metadata": {},
     "output_type": "display_data"
    }
   ],
   "source": [
    "# 将训练数据点画出以猜测模型\n",
    "plt.scatter(train.index.values, train.Population.values, color='b', label='Train')\n",
    "plt.show()"
   ]
  },
  {
   "cell_type": "markdown",
   "metadata": {},
   "source": [
    "** 可以猜测有以下模型可选：线性、二次函数或 Sigmoid 函数 **\n",
    "\n",
    "$lin(x) = kx + b$\n",
    "\n",
    "$quad(x) = a(x - b)^2 + c$\n",
    "\n",
    "$sigmoid(x) = \\frac{L}{1 + e^{-k(x-x_0)}}$"
   ]
  },
  {
   "cell_type": "code",
   "execution_count": 11,
   "metadata": {
    "collapsed": true
   },
   "outputs": [],
   "source": [
    "# 我们假设可能是以下几种模型：线性、二次函数或 Sigmoid 函数\n",
    "def linear(x, k, b):\n",
    "    \"\"\"\n",
    "    一次函数（直线）\n",
    "    x: 自变量\n",
    "    k: 直线斜率\n",
    "    b: 直线截距\n",
    "    \"\"\"\n",
    "    return k * x + b\n",
    "\n",
    "def quadratic(x, a, b, c):\n",
    "    \"\"\"\n",
    "    二次函数（抛物线）\n",
    "    x: 自变量\n",
    "    a: 抛物线开口的宽度\n",
    "    b: 抛物线顶点的横向位置\n",
    "    c: 抛物线顶点的纵向位置\n",
    "    \"\"\"\n",
    "    return a * (x - b)**2 + c\n",
    "\n",
    "def sigmoid(x, L, k, x0):\n",
    "    \"\"\"\n",
    "    x: 自变量\n",
    "    L: 曲线高度\n",
    "    k: 曲线斜度\n",
    "    x0: 曲线平移度\n",
    "    \"\"\"\n",
    "    return L / (1 + np.exp(-k * (x - x0)))"
   ]
  },
  {
   "cell_type": "code",
   "execution_count": 12,
   "metadata": {
    "collapsed": true
   },
   "outputs": [],
   "source": [
    "# 在这里，我们指定训练的模型\n",
    "function_used = sigmoid\n",
    "\n",
    "# 把训练集和测试集里的 x 和 y 分离出来\n",
    "x_train = train.index.values\n",
    "y_train = train.Population.values\n",
    "x_test = test.index.values\n",
    "y_test = test.Population.values\n",
    "\n",
    "# Squared Loss 是我们每一个预测的 y\n",
    "# 与实际 y 差值的平方和，如果我们\n",
    "# 让这个函数的值变得最小，我们\n",
    "# 就可以让我们的模型最接近数据\n",
    "def squared_loss(params, fun):\n",
    "    global x_train, y_train\n",
    "    loss = fun(x_train, *params) - y_train\n",
    "    return np.sum(loss ** 2)"
   ]
  },
  {
   "cell_type": "code",
   "execution_count": 13,
   "metadata": {},
   "outputs": [
    {
     "name": "stdout",
     "output_type": "stream",
     "text": [
      "学习完成，参数为： [  1.79930431e+02   3.20250056e-02   1.90966271e+03]\n"
     ]
    }
   ],
   "source": [
    "from scipy.optimize import minimize\n",
    "# 我们使用 scipy 库里面的 minimize 函数，\n",
    "# 这个函数可以告诉我们另外一个函数在取何值\n",
    "# 的时候最小。如果我们把 squared loss 函数\n",
    "# 代进去，就可以完成我们的机器学习。\n",
    "# minimize 函数需要提供一个猜测的初值。\n",
    "# 通常我们可以通过函数性质猜一个大概，但是\n",
    "# 这里我帮你们猜好了\n",
    "p0 = [500, 0.05, 1940] # Initial params for sigmoid\n",
    "#p0 = [0.005, 1770, 1] # Initial params for quadratic\n",
    "#p0 = [1, -2000] # Initial params for linear\n",
    "res = minimize(squared_loss, p0, args=(function_used))\n",
    "print(\"学习完成，参数为： {}\".format(res.x))"
   ]
  },
  {
   "cell_type": "code",
   "execution_count": 14,
   "metadata": {},
   "outputs": [
    {
     "name": "stdout",
     "output_type": "stream",
     "text": [
      "学习完成，参数为： [  1.79930431e+02   3.20250056e-02   1.90966271e+03]\n",
      "预测的平方均差 6.23\n"
     ]
    },
    {
     "data": {
      "image/png": "[encoded data removed]",
      "text/plain": [
       "<matplotlib.figure.Figure at 0x11c8bf8d0>"
      ]
     },
     "metadata": {},
     "output_type": "display_data"
    }
   ],
   "source": [
    "print(\"学习完成，参数为： {}\".format(res.x))\n",
    "\n",
    "# Calculate test error\n",
    "from sklearn.metrics import mean_squared_error\n",
    "print(\"预测的平方均差 \"\n",
    "      \"{0:.2f}\".format(mean_squared_error(y_test, function_used(x_test, *res.x))))\n",
    "\n",
    "# Plot the fitted line\n",
    "x_plot = np.linspace(1780, 1950, 200)\n",
    "y_plot = function_used(x_plot, *res.x)\n",
    "plt.plot(x_plot, y_plot, color='b',\n",
    "         label='{} model'.format(function_used.__name__))\n",
    "\n",
    "# Draw the original data points\n",
    "plt.scatter(x_train, y_train, color='r', label='Train')\n",
    "plt.scatter(x_test, y_test, color='g', label='Test')\n",
    "plt.legend()\n",
    "\n",
    "plt.xlabel('Year')\n",
    "plt.ylabel('Population (Million)')\n",
    "plt.title('US Population Growth: 1790 - 1940')\n",
    "plt.show()"
   ]
  }
 ],
 "metadata": {
  "kernelspec": {
   "display_name": "Python 3",
   "language": "python",
   "name": "python3"
  },
  "language_info": {
   "codemirror_mode": {
    "name": "ipython",
    "version": 3
   },
   "file_extension": ".py",
   "mimetype": "text/x-python",
   "name": "python",
   "nbconvert_exporter": "python",
   "pygments_lexer": "ipython3",
   "version": "3.6.1"
  }
 },
 "nbformat": 4,
 "nbformat_minor": 2
}
